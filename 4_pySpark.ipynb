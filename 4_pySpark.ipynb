{
  "nbformat": 4,
  "nbformat_minor": 0,
  "metadata": {
    "colab": {
      "provenance": []
    },
    "kernelspec": {
      "name": "python3",
      "display_name": "Python 3"
    },
    "language_info": {
      "name": "python"
    }
  },
  "cells": [
    {
      "cell_type": "markdown",
      "source": [
        "## pySpark datafram\n",
        "- filter operations\n",
        "- & | ==\n",
        "- ~"
      ],
      "metadata": {
        "id": "LY-imbjbNm8g"
      }
    },
    {
      "cell_type": "code",
      "source": [
        "from pyspark.sql import SparkSession\n",
        "spark = SparkSession.builder.appName('dataframe').getOrCreate()\n"
      ],
      "metadata": {
        "id": "ST7y9EOdNwp8"
      },
      "execution_count": 41,
      "outputs": []
    },
    {
      "cell_type": "code",
      "source": [
        "df_spark = spark.read.csv('/content/test4.csv', header=True, inferSchema=True)\n",
        "df_spark.show()"
      ],
      "metadata": {
        "colab": {
          "base_uri": "https://localhost:8080/"
        },
        "id": "lBVGM-w1OiJb",
        "outputId": "88c7530c-ad31-437d-84c5-8174878ad086"
      },
      "execution_count": 42,
      "outputs": [
        {
          "output_type": "stream",
          "name": "stdout",
          "text": [
            "+--------+---+----------+------+\n",
            "|    Name|age|Experience|Salary|\n",
            "+--------+---+----------+------+\n",
            "|   Krish| 31|        10| 30000|\n",
            "|Sudhansh| 30|         8| 25000|\n",
            "|   Sunny| 29|         4| 20000|\n",
            "|    Paul| 24|         3| 20000|\n",
            "|  Harsha| 21|         1| 15000|\n",
            "| Shubham| 23|         2| 18000|\n",
            "+--------+---+----------+------+\n",
            "\n"
          ]
        }
      ]
    },
    {
      "cell_type": "markdown",
      "source": [
        "### Filter operations"
      ],
      "metadata": {
        "id": "1oL_7RZ6UtMA"
      }
    },
    {
      "cell_type": "code",
      "source": [
        "# salary of the people <= 20000\n",
        "df_spark.filter(\"Salary<=20000\").show()"
      ],
      "metadata": {
        "colab": {
          "base_uri": "https://localhost:8080/"
        },
        "id": "dKFFUsakUruq",
        "outputId": "52509df7-883a-4d7d-a3fe-3c1aa9b98683"
      },
      "execution_count": 43,
      "outputs": [
        {
          "output_type": "stream",
          "name": "stdout",
          "text": [
            "+-------+---+----------+------+\n",
            "|   Name|age|Experience|Salary|\n",
            "+-------+---+----------+------+\n",
            "|  Sunny| 29|         4| 20000|\n",
            "|   Paul| 24|         3| 20000|\n",
            "| Harsha| 21|         1| 15000|\n",
            "|Shubham| 23|         2| 18000|\n",
            "+-------+---+----------+------+\n",
            "\n"
          ]
        }
      ]
    },
    {
      "cell_type": "code",
      "source": [
        "# salary of the people <= 20000\n",
        "df_spark.filter(\"Salary<=20000\").select(['Name','age']).show()"
      ],
      "metadata": {
        "colab": {
          "base_uri": "https://localhost:8080/"
        },
        "id": "ZzQPP8lSU-EW",
        "outputId": "91eca924-6791-496e-e232-f8b657717384"
      },
      "execution_count": 45,
      "outputs": [
        {
          "output_type": "stream",
          "name": "stdout",
          "text": [
            "+-------+---+\n",
            "|   Name|age|\n",
            "+-------+---+\n",
            "|  Sunny| 29|\n",
            "|   Paul| 24|\n",
            "| Harsha| 21|\n",
            "|Shubham| 23|\n",
            "+-------+---+\n",
            "\n"
          ]
        }
      ]
    },
    {
      "cell_type": "code",
      "source": [
        "df_spark.filter(df_spark['Salary']<=20000).show()"
      ],
      "metadata": {
        "colab": {
          "base_uri": "https://localhost:8080/"
        },
        "id": "3nIMyW4-VFny",
        "outputId": "3b2f6b05-e6b7-41a2-a345-5d60f51b21b5"
      },
      "execution_count": 46,
      "outputs": [
        {
          "output_type": "stream",
          "name": "stdout",
          "text": [
            "+-------+---+----------+------+\n",
            "|   Name|age|Experience|Salary|\n",
            "+-------+---+----------+------+\n",
            "|  Sunny| 29|         4| 20000|\n",
            "|   Paul| 24|         3| 20000|\n",
            "| Harsha| 21|         1| 15000|\n",
            "|Shubham| 23|         2| 18000|\n",
            "+-------+---+----------+------+\n",
            "\n"
          ]
        }
      ]
    },
    {
      "cell_type": "code",
      "source": [
        "df_spark.filter((df_spark['Salary']<=20000) &\n",
        "                (df_spark['Salary']>=15000)).show()\n",
        "\n",
        "df_spark.filter((df_spark['Salary']<=20000) | # OR\n",
        "                (df_spark['Salary']>=15000)).show()"
      ],
      "metadata": {
        "colab": {
          "base_uri": "https://localhost:8080/"
        },
        "id": "dFuAa-GjVRGY",
        "outputId": "d7818640-9fec-4761-edfc-695110bd5581"
      },
      "execution_count": 50,
      "outputs": [
        {
          "output_type": "stream",
          "name": "stdout",
          "text": [
            "+-------+---+----------+------+\n",
            "|   Name|age|Experience|Salary|\n",
            "+-------+---+----------+------+\n",
            "|  Sunny| 29|         4| 20000|\n",
            "|   Paul| 24|         3| 20000|\n",
            "| Harsha| 21|         1| 15000|\n",
            "|Shubham| 23|         2| 18000|\n",
            "+-------+---+----------+------+\n",
            "\n",
            "+--------+---+----------+------+\n",
            "|    Name|age|Experience|Salary|\n",
            "+--------+---+----------+------+\n",
            "|   Krish| 31|        10| 30000|\n",
            "|Sudhansh| 30|         8| 25000|\n",
            "|   Sunny| 29|         4| 20000|\n",
            "|    Paul| 24|         3| 20000|\n",
            "|  Harsha| 21|         1| 15000|\n",
            "| Shubham| 23|         2| 18000|\n",
            "+--------+---+----------+------+\n",
            "\n"
          ]
        }
      ]
    },
    {
      "cell_type": "code",
      "source": [
        "df_spark.filter(~(df_spark['Salary']<=20000)).show()"
      ],
      "metadata": {
        "colab": {
          "base_uri": "https://localhost:8080/"
        },
        "id": "5ScqMVT7VxBb",
        "outputId": "575e00f6-0e21-423a-e423-d4bc6225b3eb"
      },
      "execution_count": 51,
      "outputs": [
        {
          "output_type": "stream",
          "name": "stdout",
          "text": [
            "+--------+---+----------+------+\n",
            "|    Name|age|Experience|Salary|\n",
            "+--------+---+----------+------+\n",
            "|   Krish| 31|        10| 30000|\n",
            "|Sudhansh| 30|         8| 25000|\n",
            "+--------+---+----------+------+\n",
            "\n"
          ]
        }
      ]
    }
  ]
}