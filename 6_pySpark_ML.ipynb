{
  "nbformat": 4,
  "nbformat_minor": 0,
  "metadata": {
    "colab": {
      "provenance": []
    },
    "kernelspec": {
      "name": "python3",
      "display_name": "Python 3"
    },
    "language_info": {
      "name": "python"
    }
  },
  "cells": [
    {
      "cell_type": "markdown",
      "source": [
        "## Examples of pySpark ML"
      ],
      "metadata": {
        "id": "4kIrwRRvcyho"
      }
    },
    {
      "cell_type": "code",
      "source": [
        "from pyspark.sql import SparkSession\n",
        "spark = SparkSession.builder.appName('Missing').getOrCreate()\n",
        "spark"
      ],
      "metadata": {
        "colab": {
          "base_uri": "https://localhost:8080/",
          "height": 222
        },
        "id": "Ch55QKCMc02J",
        "outputId": "cc0b453e-490c-4745-d080-4fefe1a824f6"
      },
      "execution_count": 91,
      "outputs": [
        {
          "output_type": "execute_result",
          "data": {
            "text/plain": [
              "<pyspark.sql.session.SparkSession at 0x7a994a82e360>"
            ],
            "text/html": [
              "\n",
              "            <div>\n",
              "                <p><b>SparkSession - in-memory</b></p>\n",
              "                \n",
              "        <div>\n",
              "            <p><b>SparkContext</b></p>\n",
              "\n",
              "            <p><a href=\"http://acd0439d59cf:4040\">Spark UI</a></p>\n",
              "\n",
              "            <dl>\n",
              "              <dt>Version</dt>\n",
              "                <dd><code>v3.5.1</code></dd>\n",
              "              <dt>Master</dt>\n",
              "                <dd><code>local[*]</code></dd>\n",
              "              <dt>AppName</dt>\n",
              "                <dd><code>Practice</code></dd>\n",
              "            </dl>\n",
              "        </div>\n",
              "        \n",
              "            </div>\n",
              "        "
            ]
          },
          "metadata": {},
          "execution_count": 91
        }
      ]
    },
    {
      "cell_type": "code",
      "source": [
        "# read dataset\n",
        "training = spark.read.csv(\"/content/test6.csv\", header=True, inferSchema=True)\n",
        "\n",
        "training.show()\n",
        "training.printSchema()"
      ],
      "metadata": {
        "colab": {
          "base_uri": "https://localhost:8080/"
        },
        "id": "VyW06Z5DdTIt",
        "outputId": "6a062c03-9c16-4f8e-da01-d0a0cbf78bcf"
      },
      "execution_count": 93,
      "outputs": [
        {
          "output_type": "stream",
          "name": "stdout",
          "text": [
            "+---------+---+----------+------+\n",
            "|     Name|age|Experience|Salary|\n",
            "+---------+---+----------+------+\n",
            "|    Krish| 31|        10| 30000|\n",
            "|Sudhanshu| 30|         8| 25000|\n",
            "|    Sunny| 29|         4| 20000|\n",
            "|     Paul| 24|         3| 20000|\n",
            "|   Harsha| 21|         1| 15000|\n",
            "|  Shubham| 23|         2| 18000|\n",
            "+---------+---+----------+------+\n",
            "\n",
            "root\n",
            " |-- Name: string (nullable = true)\n",
            " |-- age: integer (nullable = true)\n",
            " |-- Experience: integer (nullable = true)\n",
            " |-- Salary: integer (nullable = true)\n",
            "\n"
          ]
        }
      ]
    },
    {
      "cell_type": "code",
      "source": [
        "training.columns"
      ],
      "metadata": {
        "colab": {
          "base_uri": "https://localhost:8080/"
        },
        "id": "j8dWIrOHdh8T",
        "outputId": "452bbc2b-407f-4ece-b0ed-9c0ca59b13d5"
      },
      "execution_count": 94,
      "outputs": [
        {
          "output_type": "execute_result",
          "data": {
            "text/plain": [
              "['Name', 'age', 'Experience', 'Salary']"
            ]
          },
          "metadata": {},
          "execution_count": 94
        }
      ]
    },
    {
      "cell_type": "code",
      "source": [
        "# [Age, Experience]-----> new feature -----> independent feature"
      ],
      "metadata": {
        "id": "IbRYRk59do-n"
      },
      "execution_count": 96,
      "outputs": []
    },
    {
      "cell_type": "code",
      "source": [
        "from pyspark.ml.feature import VectorAssembler\n",
        "featureassembler = VectorAssembler(inputCols=[\"age\", \"Experience\"],\n",
        "                                   outputCol=\"Independent Features\")\n",
        "\n",
        "output = featureassembler.transform(training)\n",
        "output.show()"
      ],
      "metadata": {
        "colab": {
          "base_uri": "https://localhost:8080/"
        },
        "id": "jl6Z5RO7d7uY",
        "outputId": "3386ebf4-93a4-4b42-cf8f-5da35d1820f2"
      },
      "execution_count": 98,
      "outputs": [
        {
          "output_type": "stream",
          "name": "stdout",
          "text": [
            "+---------+---+----------+------+--------------------+\n",
            "|     Name|age|Experience|Salary|Independent Features|\n",
            "+---------+---+----------+------+--------------------+\n",
            "|    Krish| 31|        10| 30000|         [31.0,10.0]|\n",
            "|Sudhanshu| 30|         8| 25000|          [30.0,8.0]|\n",
            "|    Sunny| 29|         4| 20000|          [29.0,4.0]|\n",
            "|     Paul| 24|         3| 20000|          [24.0,3.0]|\n",
            "|   Harsha| 21|         1| 15000|          [21.0,1.0]|\n",
            "|  Shubham| 23|         2| 18000|          [23.0,2.0]|\n",
            "+---------+---+----------+------+--------------------+\n",
            "\n"
          ]
        }
      ]
    },
    {
      "cell_type": "code",
      "source": [
        "output.columns"
      ],
      "metadata": {
        "colab": {
          "base_uri": "https://localhost:8080/"
        },
        "id": "34AVTDB3ef7m",
        "outputId": "2f1b2fb4-385c-4c22-83ea-fcc38e95c3d1"
      },
      "execution_count": 99,
      "outputs": [
        {
          "output_type": "execute_result",
          "data": {
            "text/plain": [
              "['Name', 'age', 'Experience', 'Salary', 'Independent Features']"
            ]
          },
          "metadata": {},
          "execution_count": 99
        }
      ]
    },
    {
      "cell_type": "code",
      "source": [
        "finalized_data = output.select(\"Independent Features\", \"Salary\")\n",
        "finalized_data.show()"
      ],
      "metadata": {
        "colab": {
          "base_uri": "https://localhost:8080/"
        },
        "id": "1kaZ6rhHelfG",
        "outputId": "8435215f-71e2-4105-e319-2a4226bd23b4"
      },
      "execution_count": 100,
      "outputs": [
        {
          "output_type": "stream",
          "name": "stdout",
          "text": [
            "+--------------------+------+\n",
            "|Independent Features|Salary|\n",
            "+--------------------+------+\n",
            "|         [31.0,10.0]| 30000|\n",
            "|          [30.0,8.0]| 25000|\n",
            "|          [29.0,4.0]| 20000|\n",
            "|          [24.0,3.0]| 20000|\n",
            "|          [21.0,1.0]| 15000|\n",
            "|          [23.0,2.0]| 18000|\n",
            "+--------------------+------+\n",
            "\n"
          ]
        }
      ]
    },
    {
      "cell_type": "code",
      "source": [
        "from pyspark.ml.regression import LinearRegression\n",
        "\n",
        "# train test split\n",
        "train_data,test_data = finalized_data.randomSplit([0.75, 0.25])\n",
        "regressor = LinearRegression(featuresCol='Independent Features', labelCol='Salary')\n",
        "regressor = regressor.fit(train_data)"
      ],
      "metadata": {
        "id": "ut9DwMCUfPm-"
      },
      "execution_count": 107,
      "outputs": []
    },
    {
      "cell_type": "code",
      "source": [
        "# Coefficients\n",
        "\n",
        "regressor.coefficients"
      ],
      "metadata": {
        "colab": {
          "base_uri": "https://localhost:8080/"
        },
        "id": "LF-opN08fsSD",
        "outputId": "2a596942-c6dc-4892-bacf-fe19c8af4a53"
      },
      "execution_count": 108,
      "outputs": [
        {
          "output_type": "execute_result",
          "data": {
            "text/plain": [
              "DenseVector([-176.3341, 1320.1856])"
            ]
          },
          "metadata": {},
          "execution_count": 108
        }
      ]
    },
    {
      "cell_type": "code",
      "source": [
        "# intercepts\n",
        "\n",
        "regressor.intercept"
      ],
      "metadata": {
        "colab": {
          "base_uri": "https://localhost:8080/"
        },
        "id": "KLFqpaSTfv6z",
        "outputId": "3bf69686-5e30-4af7-fd79-94679be3113f"
      },
      "execution_count": 109,
      "outputs": [
        {
          "output_type": "execute_result",
          "data": {
            "text/plain": [
              "19812.064965197555"
            ]
          },
          "metadata": {},
          "execution_count": 109
        }
      ]
    },
    {
      "cell_type": "code",
      "source": [
        "# prediction\n",
        "pred_results=regressor.evaluate(test_data)\n",
        "pred_results.predictions.show()"
      ],
      "metadata": {
        "colab": {
          "base_uri": "https://localhost:8080/"
        },
        "id": "19JXNTDzfzvv",
        "outputId": "7b1f574d-d6ba-41b9-ae44-dea3f762fac2"
      },
      "execution_count": 110,
      "outputs": [
        {
          "output_type": "stream",
          "name": "stdout",
          "text": [
            "+--------------------+------+------------------+\n",
            "|Independent Features|Salary|        prediction|\n",
            "+--------------------+------+------------------+\n",
            "|          [21.0,1.0]| 15000|17429.234338747123|\n",
            "|         [31.0,10.0]| 30000|27547.563805104444|\n",
            "+--------------------+------+------------------+\n",
            "\n"
          ]
        }
      ]
    },
    {
      "cell_type": "code",
      "source": [
        "pred_results.meanAbsoluteError, pred_results.meanSquaredError"
      ],
      "metadata": {
        "colab": {
          "base_uri": "https://localhost:8080/"
        },
        "id": "kxqu8CGugK2R",
        "outputId": "eb13b5fb-fd53-484e-e1d7-705f549820f2"
      },
      "execution_count": 111,
      "outputs": [
        {
          "output_type": "execute_result",
          "data": {
            "text/plain": [
              "(2440.8352668213392, 5957811.381290981)"
            ]
          },
          "metadata": {},
          "execution_count": 111
        }
      ]
    }
  ]
}