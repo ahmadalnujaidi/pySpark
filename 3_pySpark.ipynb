{
  "nbformat": 4,
  "nbformat_minor": 0,
  "metadata": {
    "colab": {
      "provenance": []
    },
    "kernelspec": {
      "name": "python3",
      "display_name": "Python 3"
    },
    "language_info": {
      "name": "python"
    }
  },
  "cells": [
    {
      "cell_type": "markdown",
      "source": [
        "### 3. pySpark handling missing values\n",
        "\n",
        "- dropping columns\n",
        "- dropping rows\n",
        "- various parameter in dropping functionalities\n",
        "- handling missing values by mean, median, mode"
      ],
      "metadata": {
        "id": "dXYiTEXpDIXu"
      }
    },
    {
      "cell_type": "code",
      "source": [
        "!pip install pyspark\n",
        "from pyspark.sql import SparkSession\n",
        "spark = SparkSession.builder.appName('Practice').getOrCreate()"
      ],
      "metadata": {
        "colab": {
          "base_uri": "https://localhost:8080/"
        },
        "id": "IGl1unfdDQtf",
        "outputId": "20d8b981-30cb-4a1d-b238-78709559fa03"
      },
      "execution_count": 2,
      "outputs": [
        {
          "output_type": "stream",
          "name": "stdout",
          "text": [
            "Requirement already satisfied: pyspark in /usr/local/lib/python3.12/dist-packages (3.5.1)\n",
            "Requirement already satisfied: py4j==0.10.9.7 in /usr/local/lib/python3.12/dist-packages (from pyspark) (0.10.9.7)\n"
          ]
        }
      ]
    },
    {
      "cell_type": "code",
      "source": [
        "df_spark=spark.read.csv('/content/test3.csv', header=True, inferSchema=True)\n",
        "df_spark.show()"
      ],
      "metadata": {
        "colab": {
          "base_uri": "https://localhost:8080/"
        },
        "id": "oI-V0gwTEcWO",
        "outputId": "3ba376bf-34ca-4cb1-9b63-804dec1a6f23"
      },
      "execution_count": 4,
      "outputs": [
        {
          "output_type": "stream",
          "name": "stdout",
          "text": [
            "+--------+----+----------+------+\n",
            "|    Name| age|Experience|Salary|\n",
            "+--------+----+----------+------+\n",
            "|   Krish|  31|        10| 30000|\n",
            "|Sudhansh|  30|         8| 25000|\n",
            "|   Sunny|  29|         4| 20000|\n",
            "|    Paul|  24|         3| 20000|\n",
            "|  Harsha|  21|         1| 15000|\n",
            "| Shubham|  23|         2| 18000|\n",
            "|  Mahesh|NULL|      NULL| 40000|\n",
            "|    NULL|  34|        10| 38000|\n",
            "|    NULL|  36|      NULL|  NULL|\n",
            "+--------+----+----------+------+\n",
            "\n"
          ]
        }
      ]
    },
    {
      "cell_type": "markdown",
      "source": [
        "#### drop the columns"
      ],
      "metadata": {
        "id": "JSCIMWNGFSNW"
      }
    },
    {
      "cell_type": "code",
      "source": [
        "# df_spark.drop('Name')\n",
        "\n",
        "df_spark.drop('Name').show()"
      ],
      "metadata": {
        "colab": {
          "base_uri": "https://localhost:8080/"
        },
        "id": "-wG1uiNbFQit",
        "outputId": "63933b57-159a-442f-919b-d915852807aa"
      },
      "execution_count": 5,
      "outputs": [
        {
          "output_type": "stream",
          "name": "stdout",
          "text": [
            "+----+----------+------+\n",
            "| age|Experience|Salary|\n",
            "+----+----------+------+\n",
            "|  31|        10| 30000|\n",
            "|  30|         8| 25000|\n",
            "|  29|         4| 20000|\n",
            "|  24|         3| 20000|\n",
            "|  21|         1| 15000|\n",
            "|  23|         2| 18000|\n",
            "|NULL|      NULL| 40000|\n",
            "|  34|        10| 38000|\n",
            "|  36|      NULL|  NULL|\n",
            "+----+----------+------+\n",
            "\n"
          ]
        }
      ]
    },
    {
      "cell_type": "code",
      "source": [
        "df_spark.show()"
      ],
      "metadata": {
        "colab": {
          "base_uri": "https://localhost:8080/"
        },
        "id": "OWvh4hVQFeD0",
        "outputId": "e8c950f2-79b2-42fb-c9d5-2361fbe67496"
      },
      "execution_count": 6,
      "outputs": [
        {
          "output_type": "stream",
          "name": "stdout",
          "text": [
            "+--------+----+----------+------+\n",
            "|    Name| age|Experience|Salary|\n",
            "+--------+----+----------+------+\n",
            "|   Krish|  31|        10| 30000|\n",
            "|Sudhansh|  30|         8| 25000|\n",
            "|   Sunny|  29|         4| 20000|\n",
            "|    Paul|  24|         3| 20000|\n",
            "|  Harsha|  21|         1| 15000|\n",
            "| Shubham|  23|         2| 18000|\n",
            "|  Mahesh|NULL|      NULL| 40000|\n",
            "|    NULL|  34|        10| 38000|\n",
            "|    NULL|  36|      NULL|  NULL|\n",
            "+--------+----+----------+------+\n",
            "\n"
          ]
        }
      ]
    },
    {
      "cell_type": "code",
      "source": [
        "# df_spark.describe().show()\n",
        "df_spark.na.drop().show() # drop any row with NULL value present\n"
      ],
      "metadata": {
        "colab": {
          "base_uri": "https://localhost:8080/"
        },
        "id": "8LO32KOMFiFf",
        "outputId": "eceaf7a1-d456-42bf-bcce-3a29690988fa"
      },
      "execution_count": 9,
      "outputs": [
        {
          "output_type": "stream",
          "name": "stdout",
          "text": [
            "+--------+---+----------+------+\n",
            "|    Name|age|Experience|Salary|\n",
            "+--------+---+----------+------+\n",
            "|   Krish| 31|        10| 30000|\n",
            "|Sudhansh| 30|         8| 25000|\n",
            "|   Sunny| 29|         4| 20000|\n",
            "|    Paul| 24|         3| 20000|\n",
            "|  Harsha| 21|         1| 15000|\n",
            "| Shubham| 23|         2| 18000|\n",
            "+--------+---+----------+------+\n",
            "\n"
          ]
        }
      ]
    },
    {
      "cell_type": "code",
      "source": [
        "### any==how, any will drop if it contains \"ANY\" NULL,\n",
        "# if 1 null is present it will drop\n",
        "### any=all, drops if all columns are NULL\n",
        "\n",
        "df_spark.na.drop(how='all').show() # nothing will drop\n",
        "\n",
        "df_spark.na.drop(how='any').show()"
      ],
      "metadata": {
        "colab": {
          "base_uri": "https://localhost:8080/"
        },
        "id": "9DFT_-HaF6Tx",
        "outputId": "6d3bc1c1-77d7-4cbb-cd3e-501d20e75b67"
      },
      "execution_count": 11,
      "outputs": [
        {
          "output_type": "stream",
          "name": "stdout",
          "text": [
            "+--------+----+----------+------+\n",
            "|    Name| age|Experience|Salary|\n",
            "+--------+----+----------+------+\n",
            "|   Krish|  31|        10| 30000|\n",
            "|Sudhansh|  30|         8| 25000|\n",
            "|   Sunny|  29|         4| 20000|\n",
            "|    Paul|  24|         3| 20000|\n",
            "|  Harsha|  21|         1| 15000|\n",
            "| Shubham|  23|         2| 18000|\n",
            "|  Mahesh|NULL|      NULL| 40000|\n",
            "|    NULL|  34|        10| 38000|\n",
            "|    NULL|  36|      NULL|  NULL|\n",
            "+--------+----+----------+------+\n",
            "\n",
            "+--------+---+----------+------+\n",
            "|    Name|age|Experience|Salary|\n",
            "+--------+---+----------+------+\n",
            "|   Krish| 31|        10| 30000|\n",
            "|Sudhansh| 30|         8| 25000|\n",
            "|   Sunny| 29|         4| 20000|\n",
            "|    Paul| 24|         3| 20000|\n",
            "|  Harsha| 21|         1| 15000|\n",
            "| Shubham| 23|         2| 18000|\n",
            "+--------+---+----------+------+\n",
            "\n"
          ]
        }
      ]
    },
    {
      "cell_type": "code",
      "source": [
        "###threshold\n",
        "\n",
        "df_spark.na.drop(how='any', thresh=2).show() # atleast 2 non-NULL values\n",
        "\n",
        "df_spark.na.drop(how='any', thresh=1).show() # atleast 1 non-NULL values\n",
        "\n",
        "df_spark.na.drop(how='any', thresh=3).show() # atleast 3 non-NULL values"
      ],
      "metadata": {
        "colab": {
          "base_uri": "https://localhost:8080/"
        },
        "id": "WxCgVVc2GaJk",
        "outputId": "112741b9-c8d9-4bcb-81e0-68a41cc2768b"
      },
      "execution_count": 20,
      "outputs": [
        {
          "output_type": "stream",
          "name": "stdout",
          "text": [
            "+--------+----+----------+------+\n",
            "|    Name| age|Experience|Salary|\n",
            "+--------+----+----------+------+\n",
            "|   Krish|  31|        10| 30000|\n",
            "|Sudhansh|  30|         8| 25000|\n",
            "|   Sunny|  29|         4| 20000|\n",
            "|    Paul|  24|         3| 20000|\n",
            "|  Harsha|  21|         1| 15000|\n",
            "| Shubham|  23|         2| 18000|\n",
            "|  Mahesh|NULL|      NULL| 40000|\n",
            "|    NULL|  34|        10| 38000|\n",
            "+--------+----+----------+------+\n",
            "\n",
            "+--------+----+----------+------+\n",
            "|    Name| age|Experience|Salary|\n",
            "+--------+----+----------+------+\n",
            "|   Krish|  31|        10| 30000|\n",
            "|Sudhansh|  30|         8| 25000|\n",
            "|   Sunny|  29|         4| 20000|\n",
            "|    Paul|  24|         3| 20000|\n",
            "|  Harsha|  21|         1| 15000|\n",
            "| Shubham|  23|         2| 18000|\n",
            "|  Mahesh|NULL|      NULL| 40000|\n",
            "|    NULL|  34|        10| 38000|\n",
            "|    NULL|  36|      NULL|  NULL|\n",
            "+--------+----+----------+------+\n",
            "\n",
            "+--------+---+----------+------+\n",
            "|    Name|age|Experience|Salary|\n",
            "+--------+---+----------+------+\n",
            "|   Krish| 31|        10| 30000|\n",
            "|Sudhansh| 30|         8| 25000|\n",
            "|   Sunny| 29|         4| 20000|\n",
            "|    Paul| 24|         3| 20000|\n",
            "|  Harsha| 21|         1| 15000|\n",
            "| Shubham| 23|         2| 18000|\n",
            "|    NULL| 34|        10| 38000|\n",
            "+--------+---+----------+------+\n",
            "\n"
          ]
        }
      ]
    },
    {
      "cell_type": "code",
      "source": [
        "###Subset\n",
        "\n",
        "df_spark.na.drop(how='any', subset=['Experience']).show() #only NULL in experience column"
      ],
      "metadata": {
        "colab": {
          "base_uri": "https://localhost:8080/"
        },
        "id": "jsjmhxJTHQl3",
        "outputId": "690fc386-26f0-429f-a925-e49e6ba6dbae"
      },
      "execution_count": 24,
      "outputs": [
        {
          "output_type": "stream",
          "name": "stdout",
          "text": [
            "+--------+---+----------+------+\n",
            "|    Name|age|Experience|Salary|\n",
            "+--------+---+----------+------+\n",
            "|   Krish| 31|        10| 30000|\n",
            "|Sudhansh| 30|         8| 25000|\n",
            "|   Sunny| 29|         4| 20000|\n",
            "|    Paul| 24|         3| 20000|\n",
            "|  Harsha| 21|         1| 15000|\n",
            "| Shubham| 23|         2| 18000|\n",
            "|    NULL| 34|        10| 38000|\n",
            "+--------+---+----------+------+\n",
            "\n"
          ]
        }
      ]
    },
    {
      "cell_type": "code",
      "source": [
        "### Filling the missing value\n",
        "df_spark.na.fill('missing values', ['Name', 'Salary']).show()"
      ],
      "metadata": {
        "colab": {
          "base_uri": "https://localhost:8080/"
        },
        "id": "8sJFi3E5Hvp_",
        "outputId": "6a5e31ed-7788-4eb0-9ddf-314a9f1941b7"
      },
      "execution_count": 33,
      "outputs": [
        {
          "output_type": "stream",
          "name": "stdout",
          "text": [
            "+--------------+----+----------+------+\n",
            "|          Name| age|Experience|Salary|\n",
            "+--------------+----+----------+------+\n",
            "|         Krish|  31|        10| 30000|\n",
            "|      Sudhansh|  30|         8| 25000|\n",
            "|         Sunny|  29|         4| 20000|\n",
            "|          Paul|  24|         3| 20000|\n",
            "|        Harsha|  21|         1| 15000|\n",
            "|       Shubham|  23|         2| 18000|\n",
            "|        Mahesh|NULL|      NULL| 40000|\n",
            "|missing values|  34|        10| 38000|\n",
            "|missing values|  36|      NULL|  NULL|\n",
            "+--------------+----+----------+------+\n",
            "\n"
          ]
        }
      ]
    },
    {
      "cell_type": "code",
      "source": [
        "df_spark.show()"
      ],
      "metadata": {
        "colab": {
          "base_uri": "https://localhost:8080/"
        },
        "id": "puM9ywHEIT70",
        "outputId": "34bcb23f-c0f9-412d-9663-cc9faa62ffa5"
      },
      "execution_count": 35,
      "outputs": [
        {
          "output_type": "stream",
          "name": "stdout",
          "text": [
            "+--------+----+----------+------+\n",
            "|    Name| age|Experience|Salary|\n",
            "+--------+----+----------+------+\n",
            "|   Krish|  31|        10| 30000|\n",
            "|Sudhansh|  30|         8| 25000|\n",
            "|   Sunny|  29|         4| 20000|\n",
            "|    Paul|  24|         3| 20000|\n",
            "|  Harsha|  21|         1| 15000|\n",
            "| Shubham|  23|         2| 18000|\n",
            "|  Mahesh|NULL|      NULL| 40000|\n",
            "|    NULL|  34|        10| 38000|\n",
            "|    NULL|  36|      NULL|  NULL|\n",
            "+--------+----+----------+------+\n",
            "\n"
          ]
        }
      ]
    },
    {
      "cell_type": "code",
      "source": [
        " from pyspark.ml.feature import Imputer\n",
        "\n",
        " imputer = Imputer(\n",
        "     inputCols=['age', 'Experience', 'Salary'],\n",
        "     outputCols=[\"{}_imputed\".format(c) for c in ['age', 'Experience', 'Salary']]\n",
        " ).setStrategy(\"mean\")"
      ],
      "metadata": {
        "id": "53lUNb8RJChG"
      },
      "execution_count": 36,
      "outputs": []
    },
    {
      "cell_type": "code",
      "source": [
        "imputer.fit(df_spark).transform(df_spark).show()"
      ],
      "metadata": {
        "colab": {
          "base_uri": "https://localhost:8080/"
        },
        "id": "7I_EfUSEJhwW",
        "outputId": "543f0f96-3ded-42df-ee34-ece6ee53403a"
      },
      "execution_count": 37,
      "outputs": [
        {
          "output_type": "stream",
          "name": "stdout",
          "text": [
            "+--------+----+----------+------+-----------+------------------+--------------+\n",
            "|    Name| age|Experience|Salary|age_imputed|Experience_imputed|Salary_imputed|\n",
            "+--------+----+----------+------+-----------+------------------+--------------+\n",
            "|   Krish|  31|        10| 30000|         31|                10|         30000|\n",
            "|Sudhansh|  30|         8| 25000|         30|                 8|         25000|\n",
            "|   Sunny|  29|         4| 20000|         29|                 4|         20000|\n",
            "|    Paul|  24|         3| 20000|         24|                 3|         20000|\n",
            "|  Harsha|  21|         1| 15000|         21|                 1|         15000|\n",
            "| Shubham|  23|         2| 18000|         23|                 2|         18000|\n",
            "|  Mahesh|NULL|      NULL| 40000|         28|                 5|         40000|\n",
            "|    NULL|  34|        10| 38000|         34|                10|         38000|\n",
            "|    NULL|  36|      NULL|  NULL|         36|                 5|         25750|\n",
            "+--------+----+----------+------+-----------+------------------+--------------+\n",
            "\n"
          ]
        }
      ]
    }
  ]
}